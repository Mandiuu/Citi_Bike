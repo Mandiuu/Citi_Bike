{
 "cells": [
  {
   "cell_type": "code",
   "execution_count": 1,
   "metadata": {},
   "outputs": [
    {
     "name": "stdout",
     "output_type": "stream",
     "text": [
      "Requirement already satisfied: censusgeocode in /Users/carlamandiola/.pyenv/versions/3.11.6/lib/python3.11/site-packages (0.5.2)\n",
      "Requirement already satisfied: requests<3,>=2.27.0 in /Users/carlamandiola/.pyenv/versions/3.11.6/lib/python3.11/site-packages (from requests[security]<3,>=2.27.0->censusgeocode) (2.31.0)\n",
      "Requirement already satisfied: requests-toolbelt<1,>=0.9.0 in /Users/carlamandiola/.pyenv/versions/3.11.6/lib/python3.11/site-packages (from censusgeocode) (0.10.1)\n",
      "Requirement already satisfied: charset-normalizer<4,>=2 in /Users/carlamandiola/.pyenv/versions/3.11.6/lib/python3.11/site-packages (from requests<3,>=2.27.0->requests[security]<3,>=2.27.0->censusgeocode) (3.3.1)\n",
      "Requirement already satisfied: idna<4,>=2.5 in /Users/carlamandiola/.pyenv/versions/3.11.6/lib/python3.11/site-packages (from requests<3,>=2.27.0->requests[security]<3,>=2.27.0->censusgeocode) (3.4)\n",
      "Requirement already satisfied: urllib3<3,>=1.21.1 in /Users/carlamandiola/.pyenv/versions/3.11.6/lib/python3.11/site-packages (from requests<3,>=2.27.0->requests[security]<3,>=2.27.0->censusgeocode) (2.2.1)\n",
      "Requirement already satisfied: certifi>=2017.4.17 in /Users/carlamandiola/.pyenv/versions/3.11.6/lib/python3.11/site-packages (from requests<3,>=2.27.0->requests[security]<3,>=2.27.0->censusgeocode) (2023.7.22)\n"
     ]
    }
   ],
   "source": [
    "!pip install censusgeocode"
   ]
  },
  {
   "cell_type": "code",
   "execution_count": 2,
   "metadata": {},
   "outputs": [],
   "source": [
    "import glob\n",
    "import json\n",
    "import requests\n",
    "import pandas as pd\n",
    "from pprint import pprint"
   ]
  },
  {
   "cell_type": "code",
   "execution_count": 3,
   "metadata": {},
   "outputs": [
    {
     "ename": "AttributeError",
     "evalue": "module 'pandas' has no attribute 'read_enero'",
     "output_type": "error",
     "traceback": [
      "\u001b[0;31m---------------------------------------------------------------------------\u001b[0m",
      "\u001b[0;31mAttributeError\u001b[0m                            Traceback (most recent call last)",
      "\u001b[1;32m/Users/carlamandiola/Desktop/Citi Bikes/Connected.ipynb Cell 3\u001b[0m line \u001b[0;36m1\n\u001b[0;32m----> <a href='vscode-notebook-cell:/Users/carlamandiola/Desktop/Citi%20Bikes/Connected.ipynb#W3sZmlsZQ%3D%3D?line=0'>1</a>\u001b[0m df \u001b[39m=\u001b[39m pd\u001b[39m.\u001b[39;49mread_enero(\u001b[39m'\u001b[39m\u001b[39m202401-citibike-tripdata_1.csv\u001b[39m\u001b[39m'\u001b[39m)\n",
      "\u001b[0;31mAttributeError\u001b[0m: module 'pandas' has no attribute 'read_enero'"
     ]
    }
   ],
   "source": [
    "#turn into a df my file '202401-citibike-tripdata_1.csv'\n",
    "\n",
    "    df = pd.read_csv('202401-citibike-tripdata_1.csv')\n",
    "    return df\n",
    "   \n",
    "df = pd.read_enero('202401-citibike-tripdata_1.csv')"
   ]
  }
 ],
 "metadata": {
  "kernelspec": {
   "display_name": "Python 3",
   "language": "python",
   "name": "python3"
  },
  "language_info": {
   "codemirror_mode": {
    "name": "ipython",
    "version": 3
   },
   "file_extension": ".py",
   "mimetype": "text/x-python",
   "name": "python",
   "nbconvert_exporter": "python",
   "pygments_lexer": "ipython3",
   "version": "3.11.6"
  }
 },
 "nbformat": 4,
 "nbformat_minor": 2
}
